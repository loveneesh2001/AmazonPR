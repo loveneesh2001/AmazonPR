{
 "cells": [
  {
   "cell_type": "code",
   "execution_count": 1,
   "id": "f8a12cad",
   "metadata": {},
   "outputs": [],
   "source": [
    "import pandas as pd\n",
    "import numpy as np\n",
    "import matplotlib.pyplot as plt"
   ]
  },
  {
   "cell_type": "code",
   "execution_count": 2,
   "id": "1d4becd6",
   "metadata": {},
   "outputs": [],
   "source": [
    "names = ['Apparel','Automotive','Baby','Beauty','Books','Camera','Digital_Ebook_Purchase','Digital_Software','Digital_Video_Games','Electronics','Furniture','Grocery','Health & Personal Care','Mobile_Electronics','Outdoors','Personal_Care_Appliances','Sports','Tools']"
   ]
  },
  {
   "cell_type": "code",
   "execution_count": 3,
   "id": "f4101572",
   "metadata": {},
   "outputs": [],
   "source": [
    "scales = ['daily','monthly','yearly']"
   ]
  },
  {
   "cell_type": "code",
   "execution_count": 4,
   "id": "02dd4239",
   "metadata": {},
   "outputs": [
    {
     "name": "stdout",
     "output_type": "stream",
     "text": [
      "Blended : Apparel in daily\n",
      "Blended : Automotive in daily\n",
      "Blended : Baby in daily\n",
      "Blended : Beauty in daily\n",
      "Blended : Books in daily\n",
      "Blended : Camera in daily\n",
      "Blended : Digital_Ebook_Purchase in daily\n",
      "Blended : Digital_Software in daily\n",
      "Blended : Digital_Video_Games in daily\n",
      "Blended : Electronics in daily\n",
      "Blended : Furniture in daily\n",
      "Blended : Grocery in daily\n",
      "Blended : Health & Personal Care in daily\n",
      "Blended : Mobile_Electronics in daily\n",
      "Blended : Outdoors in daily\n",
      "Blended : Personal_Care_Appliances in daily\n",
      "Blended : Sports in daily\n",
      "Blended : Tools in daily\n",
      "Blended : Apparel in monthly\n",
      "Blended : Automotive in monthly\n",
      "Blended : Baby in monthly\n",
      "Blended : Beauty in monthly\n",
      "Blended : Books in monthly\n",
      "Blended : Camera in monthly\n",
      "Blended : Digital_Ebook_Purchase in monthly\n",
      "Blended : Digital_Software in monthly\n",
      "Blended : Digital_Video_Games in monthly\n",
      "Blended : Electronics in monthly\n",
      "Blended : Furniture in monthly\n",
      "Blended : Grocery in monthly\n",
      "Blended : Health & Personal Care in monthly\n",
      "Blended : Mobile_Electronics in monthly\n",
      "Blended : Outdoors in monthly\n",
      "Blended : Personal_Care_Appliances in monthly\n",
      "Blended : Sports in monthly\n",
      "Blended : Tools in monthly\n",
      "Blended : Apparel in yearly\n",
      "Blended : Automotive in yearly\n",
      "Blended : Baby in yearly\n",
      "Blended : Beauty in yearly\n",
      "Blended : Books in yearly\n",
      "Blended : Camera in yearly\n",
      "Blended : Digital_Ebook_Purchase in yearly\n",
      "Blended : Digital_Software in yearly\n",
      "Blended : Digital_Video_Games in yearly\n",
      "Blended : Electronics in yearly\n",
      "Blended : Furniture in yearly\n",
      "Blended : Grocery in yearly\n",
      "Blended : Health & Personal Care in yearly\n",
      "Blended : Mobile_Electronics in yearly\n",
      "Blended : Outdoors in yearly\n",
      "Blended : Personal_Care_Appliances in yearly\n",
      "Blended : Sports in yearly\n",
      "Blended : Tools in yearly\n",
      "Wall time: 794 ms\n"
     ]
    }
   ],
   "source": [
    "%%time\n",
    "for scale in scales:\n",
    "    blends = []\n",
    "    for name in names:\n",
    "        df = pd.read_csv(rf\"D:\\amey\\datasets\\sentiment_datasets\\{name}-{scale}-sentiment.csv\")\n",
    "        blends.append(df)\n",
    "        print(f\"Blended : {name} in {scale}\")\n",
    "    pd.concat(blends).to_csv(rf\"D:\\amey\\datasets\\blend_sentiment_datasets\\blend-{scale}-sentiment.csv\",index=False)"
   ]
  },
  {
   "cell_type": "code",
   "execution_count": null,
   "id": "eab65c83",
   "metadata": {},
   "outputs": [],
   "source": []
  }
 ],
 "metadata": {
  "kernelspec": {
   "display_name": "Python 3",
   "language": "python",
   "name": "python3"
  },
  "language_info": {
   "codemirror_mode": {
    "name": "ipython",
    "version": 3
   },
   "file_extension": ".py",
   "mimetype": "text/x-python",
   "name": "python",
   "nbconvert_exporter": "python",
   "pygments_lexer": "ipython3",
   "version": "3.8.8"
  }
 },
 "nbformat": 4,
 "nbformat_minor": 5
}
