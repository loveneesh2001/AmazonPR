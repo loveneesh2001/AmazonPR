{
 "cells": [
  {
   "cell_type": "code",
   "execution_count": 1,
   "id": "2b1a5030",
   "metadata": {},
   "outputs": [],
   "source": [
    "import pandas as pd\n",
    "import numpy as np\n",
    "import matplotlib.pyplot as plt"
   ]
  },
  {
   "cell_type": "code",
   "execution_count": 2,
   "id": "c8dc0614",
   "metadata": {},
   "outputs": [],
   "source": [
    "names = ['Apparel','Automotive','Baby','Beauty','Books','Camera','Digital_Ebook_Purchase','Digital_Software','Digital_Video_Games','Electronics','Furniture','Grocery','Health & Personal Care','Mobile_Electronics','Outdoors','Personal_Care_Appliances','Sports','Tools']"
   ]
  },
  {
   "cell_type": "code",
   "execution_count": 3,
   "id": "643cb0ef",
   "metadata": {},
   "outputs": [],
   "source": [
    "scales = ['daily','monthly','yearly']"
   ]
  },
  {
   "cell_type": "code",
   "execution_count": 4,
   "id": "75279088",
   "metadata": {},
   "outputs": [
    {
     "name": "stdout",
     "output_type": "stream",
     "text": [
      "Good to go\n",
      "Wall time: 22 ms\n"
     ]
    }
   ],
   "source": [
    "%%time\n",
    "# Testing the pipeline\n",
    "df = pd.read_csv(rf\"D:\\amey\\datasets\\eda_datasets\\{names[0]}-{scales[0]}.csv\")\n",
    "quantile_df = df.quantile([0.35,0.65],axis=0)\n",
    "i1 = quantile_df.index[0]\n",
    "i2 = quantile_df.index[1]\n",
    "iqr = 1.5*(quantile_df['Rating'][i2] - quantile_df['Rating'][i1])\n",
    "f2 = quantile_df['Rating'][i1]\n",
    "f3 = quantile_df['Rating'][i2]\n",
    "f1 = f2 - iqr\n",
    "f4 = f3 + iqr\n",
    "def rating_to_sentiment(value):\n",
    "    if value <= f1:\n",
    "        return 'Poor'\n",
    "    elif value > f1 and value <= f2:\n",
    "        return 'Fair'\n",
    "    elif value > f2 and value <= f3:\n",
    "        return 'Average'\n",
    "    elif value > f3 and value <= f4:\n",
    "        return 'Good'\n",
    "    elif value > f4:\n",
    "        return 'Excellent'\n",
    "        \n",
    "df['Sentiment'] = df['Rating'].apply(rating_to_sentiment)\n",
    "df['Category'] = names[0]\n",
    "df.to_csv(rf\"D:\\amey\\datasets\\sentiment_datasets\\{names[0]}-{scales[0]}-sentiment.csv\")\n",
    "print(\"Good to go\")"
   ]
  },
  {
   "cell_type": "code",
   "execution_count": 5,
   "id": "ea4cd397",
   "metadata": {},
   "outputs": [
    {
     "name": "stdout",
     "output_type": "stream",
     "text": [
      "Done : Apparel - daily\n",
      "Done : Apparel - monthly\n",
      "Done : Apparel - yearly\n",
      "Done : Automotive - daily\n",
      "Done : Automotive - monthly\n",
      "Done : Automotive - yearly\n",
      "Done : Baby - daily\n",
      "Done : Baby - monthly\n",
      "Done : Baby - yearly\n",
      "Done : Beauty - daily\n",
      "Done : Beauty - monthly\n",
      "Done : Beauty - yearly\n",
      "Done : Books - daily\n",
      "Done : Books - monthly\n",
      "Done : Books - yearly\n",
      "Done : Camera - daily\n",
      "Done : Camera - monthly\n",
      "Done : Camera - yearly\n",
      "Done : Digital_Ebook_Purchase - daily\n",
      "Done : Digital_Ebook_Purchase - monthly\n",
      "Done : Digital_Ebook_Purchase - yearly\n",
      "Done : Digital_Software - daily\n",
      "Done : Digital_Software - monthly\n",
      "Done : Digital_Software - yearly\n",
      "Done : Digital_Video_Games - daily\n",
      "Done : Digital_Video_Games - monthly\n",
      "Done : Digital_Video_Games - yearly\n",
      "Done : Electronics - daily\n",
      "Done : Electronics - monthly\n",
      "Done : Electronics - yearly\n",
      "Done : Furniture - daily\n",
      "Done : Furniture - monthly\n",
      "Done : Furniture - yearly\n",
      "Done : Grocery - daily\n",
      "Done : Grocery - monthly\n",
      "Done : Grocery - yearly\n",
      "Done : Health & Personal Care - daily\n",
      "Done : Health & Personal Care - monthly\n",
      "Done : Health & Personal Care - yearly\n",
      "Done : Mobile_Electronics - daily\n",
      "Done : Mobile_Electronics - monthly\n",
      "Done : Mobile_Electronics - yearly\n",
      "Done : Outdoors - daily\n",
      "Done : Outdoors - monthly\n",
      "Done : Outdoors - yearly\n",
      "Done : Personal_Care_Appliances - daily\n",
      "Done : Personal_Care_Appliances - monthly\n",
      "Done : Personal_Care_Appliances - yearly\n",
      "Done : Sports - daily\n",
      "Done : Sports - monthly\n",
      "Done : Sports - yearly\n",
      "Done : Tools - daily\n",
      "Done : Tools - monthly\n",
      "Done : Tools - yearly\n",
      "Wall time: 395 ms\n"
     ]
    }
   ],
   "source": [
    "%%time\n",
    "for name in names:\n",
    "    for scale in scales:\n",
    "        df = pd.read_csv(rf\"D:\\amey\\datasets\\eda_datasets\\{name}-{scale}.csv\")\n",
    "        quantile_df = df.quantile([0.35,0.65],axis=0)\n",
    "        i1 = quantile_df.index[0]\n",
    "        i2 = quantile_df.index[1]\n",
    "        iqr = 1.5*(quantile_df['Rating'][i2] - quantile_df['Rating'][i1])\n",
    "        f2 = quantile_df['Rating'][i1]\n",
    "        f3 = quantile_df['Rating'][i2]\n",
    "        f1 = f2 - iqr\n",
    "        f4 = f3 + iqr\n",
    "        \n",
    "        def rating_to_sentiment(value):\n",
    "            if value <= f1:\n",
    "                return 'Poor'\n",
    "            elif value > f1 and value <= f2:\n",
    "                return 'Fair'\n",
    "            elif value > f2 and value <= f3:\n",
    "                return 'Average'\n",
    "            elif value > f3 and value <= f4:\n",
    "                return 'Good'\n",
    "            elif value > f4:\n",
    "                return 'Excellent'\n",
    "        \n",
    "        df['Sentiment'] = df['Rating'].apply(rating_to_sentiment)\n",
    "        df['Product'] = name\n",
    "        df.to_csv(rf\"D:\\amey\\datasets\\sentiment_datasets\\{name}-{scale}-sentiment.csv\",index=False)\n",
    "        print(f\"Done : {name} - {scale}\")"
   ]
  },
  {
   "cell_type": "code",
   "execution_count": null,
   "id": "a8c8644d",
   "metadata": {},
   "outputs": [],
   "source": []
  },
  {
   "cell_type": "code",
   "execution_count": null,
   "id": "c4019347",
   "metadata": {},
   "outputs": [],
   "source": []
  },
  {
   "cell_type": "code",
   "execution_count": null,
   "id": "47bd54c3",
   "metadata": {},
   "outputs": [],
   "source": []
  },
  {
   "cell_type": "code",
   "execution_count": null,
   "id": "bfdb5618",
   "metadata": {},
   "outputs": [],
   "source": []
  },
  {
   "cell_type": "code",
   "execution_count": null,
   "id": "6fb27efd",
   "metadata": {},
   "outputs": [],
   "source": []
  }
 ],
 "metadata": {
  "kernelspec": {
   "display_name": "Python 3",
   "language": "python",
   "name": "python3"
  },
  "language_info": {
   "codemirror_mode": {
    "name": "ipython",
    "version": 3
   },
   "file_extension": ".py",
   "mimetype": "text/x-python",
   "name": "python",
   "nbconvert_exporter": "python",
   "pygments_lexer": "ipython3",
   "version": "3.8.8"
  }
 },
 "nbformat": 4,
 "nbformat_minor": 5
}
