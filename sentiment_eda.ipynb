{
 "cells": [
  {
   "cell_type": "code",
   "execution_count": 1,
   "id": "2c6b489d",
   "metadata": {},
   "outputs": [],
   "source": [
    "import pandas as pd\n",
    "import numpy as np\n",
    "import matplotlib.pyplot as plt"
   ]
  },
  {
   "cell_type": "code",
   "execution_count": 2,
   "id": "880c0987",
   "metadata": {},
   "outputs": [],
   "source": [
    "path = ['amazon_reviews_us_Apparel_v1_00.tsv',\n",
    "        'amazon_reviews_us_Automotive_v1_00.tsv',\n",
    "        'amazon_reviews_us_Baby_v1_00.tsv',\n",
    "        'amazon_reviews_us_Beauty_v1_00.tsv',\n",
    "        'amazon_reviews_us_Books_v1_02.tsv',\n",
    "        'amazon_reviews_us_Camera_v1_00.tsv',\n",
    "        'amazon_reviews_us_Digital_Ebook_Purchase_v1_01.tsv',\n",
    "        'amazon_reviews_us_Digital_Software_v1_00.tsv',\n",
    "        'amazon_reviews_us_Digital_Video_Games_v1_00.tsv',\n",
    "        'amazon_reviews_us_Electronics_v1_00.tsv',\n",
    "        'amazon_reviews_us_Furniture_v1_00.tsv',\n",
    "        'amazon_reviews_us_Grocery_v1_00.tsv',\n",
    "        'amazon_reviews_us_Health_Personal_Care_v1_00.tsv',\n",
    "        'amazon_reviews_us_Mobile_Electronics_v1_00.tsv',\n",
    "        'amazon_reviews_us_Outdoors_v1_00.tsv',\n",
    "        'amazon_reviews_us_Personal_Care_Appliances_v1_00.tsv',\n",
    "        'amazon_reviews_us_Sports_v1_00.tsv',\n",
    "        'amazon_reviews_us_Tools_v1_00.tsv']"
   ]
  },
  {
   "cell_type": "code",
   "execution_count": 3,
   "id": "e0d3102a",
   "metadata": {},
   "outputs": [],
   "source": [
    "def transformation(file):\n",
    "    df = pd.read_csv(rf\"D:\\amey\\datasets\\{file}\", index_col=None, header=0, sep=\"\\t\", error_bad_lines=False, warn_bad_lines=False)\n",
    "    name = df['product_category'][0]\n",
    "    df = df[['review_date','star_rating']]\n",
    "    df.dropna(inplace=True)\n",
    "    df['review_date'] = pd.to_datetime(df['review_date'])\n",
    "    df = df.sort_values(by=['review_date'], ascending=True)\n",
    "    df.to_csv(rf\"D:\\amey\\datasets\\transformation_datasets\\{name}.csv\",index=False)\n",
    "    return name"
   ]
  },
  {
   "cell_type": "code",
   "execution_count": 4,
   "id": "5da0cb22",
   "metadata": {},
   "outputs": [],
   "source": [
    "def daily(name):\n",
    "    df = pd.read_csv(rf\"D:\\amey\\datasets\\transformation_datasets\\{name}.csv\")\n",
    "    df['review_date'] = pd.to_datetime(df['review_date'])\n",
    "    df['review_date'] = df['review_date'].apply(lambda x: x.strftime(\"%Y-%m-%d\"))\n",
    "    x = []\n",
    "    y = []\n",
    "    for group,frame in df.groupby('review_date'):\n",
    "        x.append(group)\n",
    "        y.append(frame['star_rating'].mean())\n",
    "    df = pd.DataFrame({\"Time\":x,\"Rating\":y})\n",
    "    df.to_csv(rf\"D:\\amey\\datasets\\eda_datasets\\{name}-daily.csv\",index=False)"
   ]
  },
  {
   "cell_type": "code",
   "execution_count": 5,
   "id": "1a056db9",
   "metadata": {},
   "outputs": [],
   "source": [
    "def monthly(name):\n",
    "    df = pd.read_csv(rf\"D:\\amey\\datasets\\transformation_datasets\\{name}.csv\")\n",
    "    df['review_date'] = pd.to_datetime(df['review_date'])\n",
    "    df['review_date'] = df['review_date'].apply(lambda x: x.strftime(\"%Y-%m\"))\n",
    "    x = []\n",
    "    y = []\n",
    "    for group,frame in df.groupby('review_date'):\n",
    "        x.append(group)\n",
    "        y.append(frame['star_rating'].mean())\n",
    "    df = pd.DataFrame({\"Time\":x,\"Rating\":y})\n",
    "    df.to_csv(rf\"D:\\amey\\datasets\\eda_datasets\\{name}-monthly.csv\",index=False)"
   ]
  },
  {
   "cell_type": "code",
   "execution_count": 6,
   "id": "c3c8a657",
   "metadata": {},
   "outputs": [],
   "source": [
    "def yearly(name):\n",
    "    df = pd.read_csv(rf\"D:\\amey\\datasets\\transformation_datasets\\{name}.csv\")\n",
    "    df['review_date'] = pd.to_datetime(df['review_date'])\n",
    "    df['review_date'] = df['review_date'].apply(lambda x: x.strftime(\"%Y\"))\n",
    "    x = []\n",
    "    y = []\n",
    "    for group,frame in df.groupby('review_date'):\n",
    "        x.append(group)\n",
    "        y.append(frame['star_rating'].mean())\n",
    "    df = pd.DataFrame({\"Time\":x,\"Rating\":y})\n",
    "    df.to_csv(rf\"D:\\amey\\datasets\\eda_datasets\\{name}-yearly.csv\",index=False)"
   ]
  },
  {
   "cell_type": "code",
   "execution_count": 7,
   "id": "bd365a35",
   "metadata": {},
   "outputs": [
    {
     "name": "stdout",
     "output_type": "stream",
     "text": [
      "Dataset transformed successfully : Apparel \n"
     ]
    },
    {
     "name": "stderr",
     "output_type": "stream",
     "text": [
      "C:\\ProgramData\\Anaconda3\\lib\\site-packages\\IPython\\core\\interactiveshell.py:3357: DtypeWarning: Columns (7) have mixed types.Specify dtype option on import or set low_memory=False.\n",
      "  if (await self.run_code(code, result,  async_=asy)):\n"
     ]
    },
    {
     "name": "stdout",
     "output_type": "stream",
     "text": [
      "Dataset transformed successfully : Automotive \n"
     ]
    },
    {
     "name": "stderr",
     "output_type": "stream",
     "text": [
      "C:\\ProgramData\\Anaconda3\\lib\\site-packages\\IPython\\core\\interactiveshell.py:3357: DtypeWarning: Columns (7) have mixed types.Specify dtype option on import or set low_memory=False.\n",
      "  if (await self.run_code(code, result,  async_=asy)):\n"
     ]
    },
    {
     "name": "stdout",
     "output_type": "stream",
     "text": [
      "Dataset transformed successfully : Baby \n"
     ]
    },
    {
     "name": "stderr",
     "output_type": "stream",
     "text": [
      "C:\\ProgramData\\Anaconda3\\lib\\site-packages\\IPython\\core\\interactiveshell.py:3357: DtypeWarning: Columns (7) have mixed types.Specify dtype option on import or set low_memory=False.\n",
      "  if (await self.run_code(code, result,  async_=asy)):\n"
     ]
    },
    {
     "name": "stdout",
     "output_type": "stream",
     "text": [
      "Dataset transformed successfully : Beauty \n",
      "Dataset transformed successfully : Books \n",
      "Dataset transformed successfully : Camera \n"
     ]
    },
    {
     "name": "stderr",
     "output_type": "stream",
     "text": [
      "C:\\ProgramData\\Anaconda3\\lib\\site-packages\\IPython\\core\\interactiveshell.py:3357: DtypeWarning: Columns (7) have mixed types.Specify dtype option on import or set low_memory=False.\n",
      "  if (await self.run_code(code, result,  async_=asy)):\n"
     ]
    },
    {
     "name": "stdout",
     "output_type": "stream",
     "text": [
      "Dataset transformed successfully : Digital_Ebook_Purchase \n",
      "Dataset transformed successfully : Digital_Software \n",
      "Dataset transformed successfully : Digital_Video_Games \n",
      "Dataset transformed successfully : Electronics \n",
      "Dataset transformed successfully : Furniture \n"
     ]
    },
    {
     "name": "stderr",
     "output_type": "stream",
     "text": [
      "C:\\ProgramData\\Anaconda3\\lib\\site-packages\\IPython\\core\\interactiveshell.py:3357: DtypeWarning: Columns (7) have mixed types.Specify dtype option on import or set low_memory=False.\n",
      "  if (await self.run_code(code, result,  async_=asy)):\n"
     ]
    },
    {
     "name": "stdout",
     "output_type": "stream",
     "text": [
      "Dataset transformed successfully : Grocery \n"
     ]
    },
    {
     "name": "stderr",
     "output_type": "stream",
     "text": [
      "C:\\ProgramData\\Anaconda3\\lib\\site-packages\\IPython\\core\\interactiveshell.py:3357: DtypeWarning: Columns (7) have mixed types.Specify dtype option on import or set low_memory=False.\n",
      "  if (await self.run_code(code, result,  async_=asy)):\n"
     ]
    },
    {
     "name": "stdout",
     "output_type": "stream",
     "text": [
      "Dataset transformed successfully : Health & Personal Care \n",
      "Dataset transformed successfully : Mobile_Electronics \n"
     ]
    },
    {
     "name": "stderr",
     "output_type": "stream",
     "text": [
      "C:\\ProgramData\\Anaconda3\\lib\\site-packages\\IPython\\core\\interactiveshell.py:3357: DtypeWarning: Columns (7) have mixed types.Specify dtype option on import or set low_memory=False.\n",
      "  if (await self.run_code(code, result,  async_=asy)):\n"
     ]
    },
    {
     "name": "stdout",
     "output_type": "stream",
     "text": [
      "Dataset transformed successfully : Outdoors \n",
      "Dataset transformed successfully : Personal_Care_Appliances \n"
     ]
    },
    {
     "name": "stderr",
     "output_type": "stream",
     "text": [
      "C:\\ProgramData\\Anaconda3\\lib\\site-packages\\IPython\\core\\interactiveshell.py:3357: DtypeWarning: Columns (7) have mixed types.Specify dtype option on import or set low_memory=False.\n",
      "  if (await self.run_code(code, result,  async_=asy)):\n"
     ]
    },
    {
     "name": "stdout",
     "output_type": "stream",
     "text": [
      "Dataset transformed successfully : Sports \n"
     ]
    },
    {
     "name": "stderr",
     "output_type": "stream",
     "text": [
      "C:\\ProgramData\\Anaconda3\\lib\\site-packages\\IPython\\core\\interactiveshell.py:3357: DtypeWarning: Columns (7) have mixed types.Specify dtype option on import or set low_memory=False.\n",
      "  if (await self.run_code(code, result,  async_=asy)):\n"
     ]
    },
    {
     "name": "stdout",
     "output_type": "stream",
     "text": [
      "Dataset transformed successfully : Tools \n"
     ]
    }
   ],
   "source": [
    "all_names = []\n",
    "for filename in path:\n",
    "    name = transformation(filename)\n",
    "    all_names.append(name)\n",
    "    \n",
    "    print(f\"Dataset transformed successfully : {name} \")"
   ]
  },
  {
   "cell_type": "code",
   "execution_count": 8,
   "id": "b56856e4",
   "metadata": {},
   "outputs": [
    {
     "name": "stdout",
     "output_type": "stream",
     "text": [
      "Daily dataset saved successfully : Apparel\n",
      "Daily dataset saved successfully : Automotive\n",
      "Daily dataset saved successfully : Baby\n",
      "Daily dataset saved successfully : Beauty\n",
      "Daily dataset saved successfully : Books\n",
      "Daily dataset saved successfully : Camera\n",
      "Daily dataset saved successfully : Digital_Ebook_Purchase\n",
      "Daily dataset saved successfully : Digital_Software\n",
      "Daily dataset saved successfully : Digital_Video_Games\n",
      "Daily dataset saved successfully : Electronics\n",
      "Daily dataset saved successfully : Furniture\n",
      "Daily dataset saved successfully : Grocery\n",
      "Daily dataset saved successfully : Health & Personal Care\n",
      "Daily dataset saved successfully : Mobile_Electronics\n",
      "Daily dataset saved successfully : Outdoors\n",
      "Daily dataset saved successfully : Personal_Care_Appliances\n",
      "Daily dataset saved successfully : Sports\n",
      "Daily dataset saved successfully : Tools\n"
     ]
    }
   ],
   "source": [
    "for name in all_names:\n",
    "    daily(name)\n",
    "    print(f\"Daily dataset saved successfully : {name}\")"
   ]
  },
  {
   "cell_type": "code",
   "execution_count": 9,
   "id": "08d512c1",
   "metadata": {},
   "outputs": [
    {
     "name": "stdout",
     "output_type": "stream",
     "text": [
      "Monthly dataset saved successfully : Apparel\n",
      "Monthly dataset saved successfully : Automotive\n",
      "Monthly dataset saved successfully : Baby\n",
      "Monthly dataset saved successfully : Beauty\n",
      "Monthly dataset saved successfully : Books\n",
      "Monthly dataset saved successfully : Camera\n",
      "Monthly dataset saved successfully : Digital_Ebook_Purchase\n",
      "Monthly dataset saved successfully : Digital_Software\n",
      "Monthly dataset saved successfully : Digital_Video_Games\n",
      "Monthly dataset saved successfully : Electronics\n",
      "Monthly dataset saved successfully : Furniture\n",
      "Monthly dataset saved successfully : Grocery\n",
      "Monthly dataset saved successfully : Health & Personal Care\n",
      "Monthly dataset saved successfully : Mobile_Electronics\n",
      "Monthly dataset saved successfully : Outdoors\n",
      "Monthly dataset saved successfully : Personal_Care_Appliances\n",
      "Monthly dataset saved successfully : Sports\n",
      "Monthly dataset saved successfully : Tools\n"
     ]
    }
   ],
   "source": [
    "for name in all_names:\n",
    "    monthly(name)\n",
    "    print(f\"Monthly dataset saved successfully : {name}\")"
   ]
  },
  {
   "cell_type": "code",
   "execution_count": 10,
   "id": "727140d9",
   "metadata": {},
   "outputs": [
    {
     "name": "stdout",
     "output_type": "stream",
     "text": [
      "Yearly dataset saved successfully : Apparel\n",
      "Yearly dataset saved successfully : Automotive\n",
      "Yearly dataset saved successfully : Baby\n",
      "Yearly dataset saved successfully : Beauty\n",
      "Yearly dataset saved successfully : Books\n",
      "Yearly dataset saved successfully : Camera\n",
      "Yearly dataset saved successfully : Digital_Ebook_Purchase\n",
      "Yearly dataset saved successfully : Digital_Software\n",
      "Yearly dataset saved successfully : Digital_Video_Games\n",
      "Yearly dataset saved successfully : Electronics\n",
      "Yearly dataset saved successfully : Furniture\n",
      "Yearly dataset saved successfully : Grocery\n",
      "Yearly dataset saved successfully : Health & Personal Care\n",
      "Yearly dataset saved successfully : Mobile_Electronics\n",
      "Yearly dataset saved successfully : Outdoors\n",
      "Yearly dataset saved successfully : Personal_Care_Appliances\n",
      "Yearly dataset saved successfully : Sports\n",
      "Yearly dataset saved successfully : Tools\n"
     ]
    }
   ],
   "source": [
    "for name in all_names:\n",
    "    yearly(name)\n",
    "    print(f\"Yearly dataset saved successfully : {name}\")"
   ]
  },
  {
   "cell_type": "code",
   "execution_count": null,
   "id": "d954d9c8",
   "metadata": {},
   "outputs": [],
   "source": []
  },
  {
   "cell_type": "code",
   "execution_count": null,
   "id": "93e7b898",
   "metadata": {},
   "outputs": [],
   "source": []
  },
  {
   "cell_type": "code",
   "execution_count": null,
   "id": "a0251155",
   "metadata": {},
   "outputs": [],
   "source": []
  },
  {
   "cell_type": "code",
   "execution_count": null,
   "id": "72a2ee30",
   "metadata": {},
   "outputs": [],
   "source": []
  },
  {
   "cell_type": "code",
   "execution_count": null,
   "id": "af070067",
   "metadata": {},
   "outputs": [],
   "source": []
  },
  {
   "cell_type": "code",
   "execution_count": null,
   "id": "31e31df5",
   "metadata": {},
   "outputs": [],
   "source": []
  },
  {
   "cell_type": "code",
   "execution_count": null,
   "id": "24010803",
   "metadata": {},
   "outputs": [],
   "source": []
  },
  {
   "cell_type": "code",
   "execution_count": null,
   "id": "84766481",
   "metadata": {},
   "outputs": [],
   "source": []
  },
  {
   "cell_type": "code",
   "execution_count": null,
   "id": "9c394030",
   "metadata": {},
   "outputs": [],
   "source": []
  },
  {
   "cell_type": "code",
   "execution_count": null,
   "id": "3d6391e1",
   "metadata": {},
   "outputs": [],
   "source": []
  },
  {
   "cell_type": "code",
   "execution_count": null,
   "id": "45895d8c",
   "metadata": {},
   "outputs": [],
   "source": []
  },
  {
   "cell_type": "code",
   "execution_count": null,
   "id": "230ae9d9",
   "metadata": {},
   "outputs": [],
   "source": []
  },
  {
   "cell_type": "code",
   "execution_count": null,
   "id": "c1f6b324",
   "metadata": {},
   "outputs": [],
   "source": []
  },
  {
   "cell_type": "code",
   "execution_count": null,
   "id": "6001fcf0",
   "metadata": {},
   "outputs": [],
   "source": []
  },
  {
   "cell_type": "code",
   "execution_count": null,
   "id": "d62a9523",
   "metadata": {},
   "outputs": [],
   "source": []
  },
  {
   "cell_type": "code",
   "execution_count": null,
   "id": "94564105",
   "metadata": {},
   "outputs": [],
   "source": []
  },
  {
   "cell_type": "code",
   "execution_count": null,
   "id": "c66ba56f",
   "metadata": {},
   "outputs": [],
   "source": []
  },
  {
   "cell_type": "code",
   "execution_count": null,
   "id": "8f2b3a6e",
   "metadata": {},
   "outputs": [],
   "source": []
  },
  {
   "cell_type": "code",
   "execution_count": null,
   "id": "92e065f3",
   "metadata": {},
   "outputs": [],
   "source": []
  },
  {
   "cell_type": "code",
   "execution_count": null,
   "id": "c13a5c08",
   "metadata": {},
   "outputs": [],
   "source": []
  }
 ],
 "metadata": {
  "kernelspec": {
   "display_name": "Python 3",
   "language": "python",
   "name": "python3"
  },
  "language_info": {
   "codemirror_mode": {
    "name": "ipython",
    "version": 3
   },
   "file_extension": ".py",
   "mimetype": "text/x-python",
   "name": "python",
   "nbconvert_exporter": "python",
   "pygments_lexer": "ipython3",
   "version": "3.8.8"
  }
 },
 "nbformat": 4,
 "nbformat_minor": 5
}
