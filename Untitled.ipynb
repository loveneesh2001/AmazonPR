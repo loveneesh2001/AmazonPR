{
 "cells": [
  {
   "cell_type": "code",
   "execution_count": 1,
   "id": "5bee8c9c",
   "metadata": {},
   "outputs": [],
   "source": [
    "import pandas as pd\n",
    "import numpy as np\n",
    "import matplotlib.pyplot as plt"
   ]
  },
  {
   "cell_type": "code",
   "execution_count": 3,
   "id": "79ac5e9e",
   "metadata": {},
   "outputs": [],
   "source": [
    "df = pd.read_csv(r\"D:\\amey\\datasets\\amazon_reviews_us_Apparel_v1_00.tsv\", index_col=None, header=0, sep=\"\\t\", error_bad_lines=False, warn_bad_lines=False)"
   ]
  },
  {
   "cell_type": "code",
   "execution_count": 6,
   "id": "84fd129a",
   "metadata": {},
   "outputs": [
    {
     "data": {
      "text/plain": [
       "marketplace            0\n",
       "customer_id            0\n",
       "review_id              0\n",
       "product_id             0\n",
       "product_parent         0\n",
       "product_title         12\n",
       "product_category       0\n",
       "star_rating            1\n",
       "helpful_votes          1\n",
       "total_votes            1\n",
       "vine                   1\n",
       "verified_purchase      1\n",
       "review_headline       56\n",
       "review_body          785\n",
       "review_date          109\n",
       "dtype: int64"
      ]
     },
     "execution_count": 6,
     "metadata": {},
     "output_type": "execute_result"
    }
   ],
   "source": [
    "df.isnull().sum()"
   ]
  },
  {
   "cell_type": "code",
   "execution_count": 7,
   "id": "b7775782",
   "metadata": {},
   "outputs": [],
   "source": [
    "df.dropna(inplace=True)"
   ]
  },
  {
   "cell_type": "code",
   "execution_count": 11,
   "id": "9b3dbe75",
   "metadata": {},
   "outputs": [
    {
     "data": {
      "text/plain": [
       "marketplace          0\n",
       "customer_id          0\n",
       "review_id            0\n",
       "product_id           0\n",
       "product_parent       0\n",
       "product_title        0\n",
       "product_category     0\n",
       "star_rating          0\n",
       "helpful_votes        0\n",
       "total_votes          0\n",
       "vine                 0\n",
       "verified_purchase    0\n",
       "review_headline      0\n",
       "review_body          0\n",
       "review_date          0\n",
       "dtype: int64"
      ]
     },
     "execution_count": 11,
     "metadata": {},
     "output_type": "execute_result"
    }
   ],
   "source": [
    "df.isnull().sum()"
   ]
  },
  {
   "cell_type": "code",
   "execution_count": 12,
   "id": "c5864521",
   "metadata": {},
   "outputs": [
    {
     "data": {
      "text/plain": [
       "Index(['marketplace', 'customer_id', 'review_id', 'product_id',\n",
       "       'product_parent', 'product_title', 'product_category', 'star_rating',\n",
       "       'helpful_votes', 'total_votes', 'vine', 'verified_purchase',\n",
       "       'review_headline', 'review_body', 'review_date'],\n",
       "      dtype='object')"
      ]
     },
     "execution_count": 12,
     "metadata": {},
     "output_type": "execute_result"
    }
   ],
   "source": [
    "df.columns"
   ]
  },
  {
   "cell_type": "code",
   "execution_count": 13,
   "id": "9cd6a0d6",
   "metadata": {},
   "outputs": [
    {
     "data": {
      "text/plain": [
       "count    5.880916e+06\n",
       "mean     4.105231e+00\n",
       "std      1.259236e+00\n",
       "min      1.000000e+00\n",
       "25%      4.000000e+00\n",
       "50%      5.000000e+00\n",
       "75%      5.000000e+00\n",
       "max      5.000000e+00\n",
       "Name: star_rating, dtype: float64"
      ]
     },
     "execution_count": 13,
     "metadata": {},
     "output_type": "execute_result"
    }
   ],
   "source": [
    "df['star_rating'].describe()"
   ]
  },
  {
   "cell_type": "code",
   "execution_count": 14,
   "id": "1eac753b",
   "metadata": {},
   "outputs": [
    {
     "data": {
      "text/plain": [
       "count        5880916\n",
       "unique          4747\n",
       "top       2014-12-29\n",
       "freq           18803\n",
       "Name: review_date, dtype: object"
      ]
     },
     "execution_count": 14,
     "metadata": {},
     "output_type": "execute_result"
    }
   ],
   "source": [
    "df['review_date'].describe()"
   ]
  },
  {
   "cell_type": "code",
   "execution_count": 15,
   "id": "9762105f",
   "metadata": {},
   "outputs": [
    {
     "data": {
      "text/plain": [
       "0    2013-01-14\n",
       "1    2014-03-04\n",
       "2    2015-07-12\n",
       "3    2015-06-03\n",
       "4    2015-06-12\n",
       "Name: review_date, dtype: object"
      ]
     },
     "execution_count": 15,
     "metadata": {},
     "output_type": "execute_result"
    }
   ],
   "source": [
    "df['review_date'].head()"
   ]
  },
  {
   "cell_type": "code",
   "execution_count": 16,
   "id": "517886de",
   "metadata": {},
   "outputs": [],
   "source": [
    "df['time_series'] = pd.to_datetime(df['review_date'])"
   ]
  },
  {
   "cell_type": "code",
   "execution_count": 18,
   "id": "65ccab47",
   "metadata": {},
   "outputs": [
    {
     "data": {
      "text/plain": [
       "0   2013-01-14\n",
       "1   2014-03-04\n",
       "2   2015-07-12\n",
       "3   2015-06-03\n",
       "4   2015-06-12\n",
       "Name: time_series, dtype: datetime64[ns]"
      ]
     },
     "execution_count": 18,
     "metadata": {},
     "output_type": "execute_result"
    }
   ],
   "source": [
    "df['time_series'].head()"
   ]
  },
  {
   "cell_type": "code",
   "execution_count": 19,
   "id": "b5a066aa",
   "metadata": {},
   "outputs": [],
   "source": [
    "sorted_df = df.sort_values(by=['time_series'], ascending=True)   "
   ]
  },
  {
   "cell_type": "code",
   "execution_count": 20,
   "id": "e6741c49",
   "metadata": {},
   "outputs": [
    {
     "data": {
      "text/html": [
       "<div>\n",
       "<style scoped>\n",
       "    .dataframe tbody tr th:only-of-type {\n",
       "        vertical-align: middle;\n",
       "    }\n",
       "\n",
       "    .dataframe tbody tr th {\n",
       "        vertical-align: top;\n",
       "    }\n",
       "\n",
       "    .dataframe thead th {\n",
       "        text-align: right;\n",
       "    }\n",
       "</style>\n",
       "<table border=\"1\" class=\"dataframe\">\n",
       "  <thead>\n",
       "    <tr style=\"text-align: right;\">\n",
       "      <th></th>\n",
       "      <th>marketplace</th>\n",
       "      <th>customer_id</th>\n",
       "      <th>review_id</th>\n",
       "      <th>product_id</th>\n",
       "      <th>product_parent</th>\n",
       "      <th>product_title</th>\n",
       "      <th>product_category</th>\n",
       "      <th>star_rating</th>\n",
       "      <th>helpful_votes</th>\n",
       "      <th>total_votes</th>\n",
       "      <th>vine</th>\n",
       "      <th>verified_purchase</th>\n",
       "      <th>review_headline</th>\n",
       "      <th>review_body</th>\n",
       "      <th>review_date</th>\n",
       "      <th>time_series</th>\n",
       "    </tr>\n",
       "  </thead>\n",
       "  <tbody>\n",
       "    <tr>\n",
       "      <th>5880688</th>\n",
       "      <td>US</td>\n",
       "      <td>51766529</td>\n",
       "      <td>R3N7R61675XZYW</td>\n",
       "      <td>B00004U1LF</td>\n",
       "      <td>131783548</td>\n",
       "      <td>Disguise The Simpsons Homer Adult Vinyl Oversi...</td>\n",
       "      <td>Apparel</td>\n",
       "      <td>5.0</td>\n",
       "      <td>2.0</td>\n",
       "      <td>5.0</td>\n",
       "      <td>N</td>\n",
       "      <td>N</td>\n",
       "      <td>Do'h</td>\n",
       "      <td>This is great!  Be Homer for Haloween!  It's p...</td>\n",
       "      <td>2000-09-06</td>\n",
       "      <td>2000-09-06</td>\n",
       "    </tr>\n",
       "    <tr>\n",
       "      <th>5881155</th>\n",
       "      <td>US</td>\n",
       "      <td>51295376</td>\n",
       "      <td>R3OLOYPIUCMV3P</td>\n",
       "      <td>B00001O36O</td>\n",
       "      <td>955144407</td>\n",
       "      <td>Disguise Men's But Mommy I Don'T Want To Grow ...</td>\n",
       "      <td>Apparel</td>\n",
       "      <td>5.0</td>\n",
       "      <td>9.0</td>\n",
       "      <td>12.0</td>\n",
       "      <td>N</td>\n",
       "      <td>N</td>\n",
       "      <td>Great Costume!</td>\n",
       "      <td>This is one of the best costumes I've ever see...</td>\n",
       "      <td>2000-10-06</td>\n",
       "      <td>2000-10-06</td>\n",
       "    </tr>\n",
       "    <tr>\n",
       "      <th>5880417</th>\n",
       "      <td>US</td>\n",
       "      <td>47651641</td>\n",
       "      <td>RIPDUN6PASB0H</td>\n",
       "      <td>B000050B0Q</td>\n",
       "      <td>263589486</td>\n",
       "      <td>Pirate Accessory Kit</td>\n",
       "      <td>Apparel</td>\n",
       "      <td>5.0</td>\n",
       "      <td>0.0</td>\n",
       "      <td>1.0</td>\n",
       "      <td>N</td>\n",
       "      <td>N</td>\n",
       "      <td>GIVE YOUR PIRATE THE JUMP ON HALLOWEEN</td>\n",
       "      <td>These great accessories are just what you need...</td>\n",
       "      <td>2000-10-08</td>\n",
       "      <td>2000-10-08</td>\n",
       "    </tr>\n",
       "    <tr>\n",
       "      <th>5881109</th>\n",
       "      <td>US</td>\n",
       "      <td>47925868</td>\n",
       "      <td>R3QEYK7M2SJ5PA</td>\n",
       "      <td>B00001O375</td>\n",
       "      <td>787653820</td>\n",
       "      <td>Disguise Men's Austin Powers Dr. Evil Deluxe C...</td>\n",
       "      <td>Apparel</td>\n",
       "      <td>2.0</td>\n",
       "      <td>15.0</td>\n",
       "      <td>17.0</td>\n",
       "      <td>N</td>\n",
       "      <td>N</td>\n",
       "      <td>Not so evil</td>\n",
       "      <td>I must admit that this costume very quickly ca...</td>\n",
       "      <td>2000-10-10</td>\n",
       "      <td>2000-10-10</td>\n",
       "    </tr>\n",
       "    <tr>\n",
       "      <th>5881116</th>\n",
       "      <td>US</td>\n",
       "      <td>50938262</td>\n",
       "      <td>RXARNBHUR5B5M</td>\n",
       "      <td>B00001O36V</td>\n",
       "      <td>537311477</td>\n",
       "      <td>Disguise Men's Austin Powers Deluxe Costume</td>\n",
       "      <td>Apparel</td>\n",
       "      <td>5.0</td>\n",
       "      <td>8.0</td>\n",
       "      <td>10.0</td>\n",
       "      <td>N</td>\n",
       "      <td>N</td>\n",
       "      <td>Shaggadelic costume</td>\n",
       "      <td>I just got this costume and tried it on for my...</td>\n",
       "      <td>2000-10-19</td>\n",
       "      <td>2000-10-19</td>\n",
       "    </tr>\n",
       "  </tbody>\n",
       "</table>\n",
       "</div>"
      ],
      "text/plain": [
       "        marketplace  customer_id       review_id  product_id  product_parent  \\\n",
       "5880688          US     51766529  R3N7R61675XZYW  B00004U1LF       131783548   \n",
       "5881155          US     51295376  R3OLOYPIUCMV3P  B00001O36O       955144407   \n",
       "5880417          US     47651641   RIPDUN6PASB0H  B000050B0Q       263589486   \n",
       "5881109          US     47925868  R3QEYK7M2SJ5PA  B00001O375       787653820   \n",
       "5881116          US     50938262   RXARNBHUR5B5M  B00001O36V       537311477   \n",
       "\n",
       "                                             product_title product_category  \\\n",
       "5880688  Disguise The Simpsons Homer Adult Vinyl Oversi...          Apparel   \n",
       "5881155  Disguise Men's But Mommy I Don'T Want To Grow ...          Apparel   \n",
       "5880417                               Pirate Accessory Kit          Apparel   \n",
       "5881109  Disguise Men's Austin Powers Dr. Evil Deluxe C...          Apparel   \n",
       "5881116        Disguise Men's Austin Powers Deluxe Costume          Apparel   \n",
       "\n",
       "         star_rating  helpful_votes  total_votes vine verified_purchase  \\\n",
       "5880688          5.0            2.0          5.0    N                 N   \n",
       "5881155          5.0            9.0         12.0    N                 N   \n",
       "5880417          5.0            0.0          1.0    N                 N   \n",
       "5881109          2.0           15.0         17.0    N                 N   \n",
       "5881116          5.0            8.0         10.0    N                 N   \n",
       "\n",
       "                                review_headline  \\\n",
       "5880688                                    Do'h   \n",
       "5881155                          Great Costume!   \n",
       "5880417  GIVE YOUR PIRATE THE JUMP ON HALLOWEEN   \n",
       "5881109                             Not so evil   \n",
       "5881116                     Shaggadelic costume   \n",
       "\n",
       "                                               review_body review_date  \\\n",
       "5880688  This is great!  Be Homer for Haloween!  It's p...  2000-09-06   \n",
       "5881155  This is one of the best costumes I've ever see...  2000-10-06   \n",
       "5880417  These great accessories are just what you need...  2000-10-08   \n",
       "5881109  I must admit that this costume very quickly ca...  2000-10-10   \n",
       "5881116  I just got this costume and tried it on for my...  2000-10-19   \n",
       "\n",
       "        time_series  \n",
       "5880688  2000-09-06  \n",
       "5881155  2000-10-06  \n",
       "5880417  2000-10-08  \n",
       "5881109  2000-10-10  \n",
       "5881116  2000-10-19  "
      ]
     },
     "execution_count": 20,
     "metadata": {},
     "output_type": "execute_result"
    }
   ],
   "source": [
    "sorted_df.head()"
   ]
  },
  {
   "cell_type": "code",
   "execution_count": 29,
   "id": "28882b9d",
   "metadata": {},
   "outputs": [
    {
     "data": {
      "text/plain": [
       "4747"
      ]
     },
     "execution_count": 29,
     "metadata": {},
     "output_type": "execute_result"
    }
   ],
   "source": [
    "len(sorted_df['time_series'].unique())"
   ]
  },
  {
   "cell_type": "code",
   "execution_count": 31,
   "id": "e20cffe5",
   "metadata": {},
   "outputs": [
    {
     "data": {
      "text/plain": [
       "3218532"
      ]
     },
     "execution_count": 31,
     "metadata": {},
     "output_type": "execute_result"
    }
   ],
   "source": [
    "len(sorted_df['customer_id'].unique())"
   ]
  },
  {
   "cell_type": "code",
   "execution_count": 48,
   "id": "c7cf4951",
   "metadata": {},
   "outputs": [
    {
     "data": {
      "text/plain": [
       "50612720    559\n",
       "33883540    351\n",
       "33924372    344\n",
       "37474421    281\n",
       "15006109    262\n",
       "           ... \n",
       "26694846      1\n",
       "13958347      1\n",
       "26526924      1\n",
       "47463635      1\n",
       "15743480      1\n",
       "Name: customer_id, Length: 3218532, dtype: int64"
      ]
     },
     "execution_count": 48,
     "metadata": {},
     "output_type": "execute_result"
    }
   ],
   "source": [
    "sorted_df['customer_id'].value_counts()"
   ]
  },
  {
   "cell_type": "code",
   "execution_count": 49,
   "id": "c80e611a",
   "metadata": {},
   "outputs": [],
   "source": [
    "x = []\n",
    "y = []\n",
    "for group,frame in sorted_df.groupby('time_series'):\n",
    "    x.append(group)\n",
    "    y.append(frame['star_rating'].mean())"
   ]
  },
  {
   "cell_type": "code",
   "execution_count": 57,
   "id": "dbbd7117",
   "metadata": {},
   "outputs": [],
   "source": [
    "senti_df = pd.DataFrame({'Time':x,'Rating':y})"
   ]
  },
  {
   "cell_type": "code",
   "execution_count": 66,
   "id": "bc870b34",
   "metadata": {},
   "outputs": [
    {
     "data": {
      "text/plain": [
       "[<matplotlib.lines.Line2D at 0x1a916bd3fd0>]"
      ]
     },
     "execution_count": 66,
     "metadata": {},
     "output_type": "execute_result"
    },
    {
     "data": {
      "image/png": "[encoded data removed]",
      "text/plain": [
       "<Figure size 432x288 with 1 Axes>"
      ]
     },
     "metadata": {
      "needs_background": "light"
     },
     "output_type": "display_data"
    }
   ],
   "source": [
    "plt.plot(senti_df['Time'],senti_df['Rating'])"
   ]
  },
  {
   "cell_type": "code",
   "execution_count": 64,
   "id": "d103cf28",
   "metadata": {},
   "outputs": [
    {
     "data": {
      "text/plain": [
       "<matplotlib.collections.PathCollection at 0x1a9139903d0>"
      ]
     },
     "execution_count": 64,
     "metadata": {},
     "output_type": "execute_result"
    },
    {
     "data": {
      "image/png": "[encoded data removed]",
      "text/plain": [
       "<Figure size 432x288 with 1 Axes>"
      ]
     },
     "metadata": {
      "needs_background": "light"
     },
     "output_type": "display_data"
    }
   ],
   "source": [
    "plt.scatter(senti_df['Time'],senti_df['Rating'])"
   ]
  },
  {
   "cell_type": "code",
   "execution_count": 67,
   "id": "85d380cc",
   "metadata": {},
   "outputs": [
    {
     "data": {
      "text/plain": [
       "<BarContainer object of 4747 artists>"
      ]
     },
     "execution_count": 67,
     "metadata": {},
     "output_type": "execute_result"
    },
    {
     "data": {
      "image/png": "[encoded data removed]",
      "text/plain": [
       "<Figure size 432x288 with 1 Axes>"
      ]
     },
     "metadata": {
      "needs_background": "light"
     },
     "output_type": "display_data"
    }
   ],
   "source": [
    "plt.bar(senti_df['Time'],senti_df['Rating'])"
   ]
  },
  {
   "cell_type": "code",
   "execution_count": 68,
   "id": "6c541f59",
   "metadata": {},
   "outputs": [
    {
     "data": {
      "text/plain": [
       "[<matplotlib.lines.Line2D at 0x1a91f6b0a90>]"
      ]
     },
     "execution_count": 68,
     "metadata": {},
     "output_type": "execute_result"
    },
    {
     "data": {
      "image/png": "[encoded data removed]",
      "text/plain": [
       "<Figure size 432x288 with 1 Axes>"
      ]
     },
     "metadata": {
      "needs_background": "light"
     },
     "output_type": "display_data"
    }
   ],
   "source": [
    "plt.plot_date(senti_df['Time'],senti_df['Rating'])"
   ]
  },
  {
   "cell_type": "code",
   "execution_count": 69,
   "id": "4cfa18e8",
   "metadata": {},
   "outputs": [],
   "source": [
    "import seaborn as sns"
   ]
  },
  {
   "cell_type": "code",
   "execution_count": 71,
   "id": "4f17d0f9",
   "metadata": {},
   "outputs": [
    {
     "data": {
      "text/plain": [
       "<AxesSubplot:xlabel='Time', ylabel='Rating'>"
      ]
     },
     "execution_count": 71,
     "metadata": {},
     "output_type": "execute_result"
    },
    {
     "data": {
      "image/png": "[encoded data removed]",
      "text/plain": [
       "<Figure size 432x288 with 1 Axes>"
      ]
     },
     "metadata": {
      "needs_background": "light"
     },
     "output_type": "display_data"
    }
   ],
   "source": [
    "sns.lineplot(x=senti_df['Time'], y=senti_df['Rating'])"
   ]
  },
  {
   "cell_type": "code",
   "execution_count": 75,
   "id": "98d5748a",
   "metadata": {},
   "outputs": [],
   "source": [
    "monthly_senti_df = senti_df.copy()"
   ]
  },
  {
   "cell_type": "code",
   "execution_count": 76,
   "id": "af295999",
   "metadata": {},
   "outputs": [],
   "source": [
    "monthly_senti_df['Time'] = monthly_senti_df['Time'].apply(lambda x: x.strftime(\"%Y-%m\"))"
   ]
  },
  {
   "cell_type": "code",
   "execution_count": 78,
   "id": "0160dce3",
   "metadata": {},
   "outputs": [],
   "source": [
    "x = []\n",
    "y = []\n",
    "for group,frame in monthly_senti_df.groupby('Time'):\n",
    "    x.append(group)\n",
    "    y.append(frame['Rating'].mean())"
   ]
  },
  {
   "cell_type": "code",
   "execution_count": 79,
   "id": "600f4a4e",
   "metadata": {},
   "outputs": [],
   "source": [
    "new_monthly_senti_df = pd.DataFrame({\"Time\":x,\"Rating\":y})"
   ]
  },
  {
   "cell_type": "code",
   "execution_count": 82,
   "id": "9c9210e9",
   "metadata": {},
   "outputs": [
    {
     "data": {
      "text/plain": [
       "[<matplotlib.lines.Line2D at 0x1a9ba4a0790>]"
      ]
     },
     "execution_count": 82,
     "metadata": {},
     "output_type": "execute_result"
    },
    {
     "data": {
      "image/png": "[encoded data removed]",
      "text/plain": [
       "<Figure size 432x288 with 1 Axes>"
      ]
     },
     "metadata": {
      "needs_background": "light"
     },
     "output_type": "display_data"
    }
   ],
   "source": [
    "plt.plot(new_monthly_senti_df['Time'],new_monthly_senti_df['Rating'])"
   ]
  },
  {
   "cell_type": "code",
   "execution_count": 83,
   "id": "7ab61e7b",
   "metadata": {},
   "outputs": [
    {
     "data": {
      "text/plain": [
       "<matplotlib.collections.PathCollection at 0x1a9babc94f0>"
      ]
     },
     "execution_count": 83,
     "metadata": {},
     "output_type": "execute_result"
    },
    {
     "data": {
      "image/png": "[encoded data removed]",
      "text/plain": [
       "<Figure size 432x288 with 1 Axes>"
      ]
     },
     "metadata": {
      "needs_background": "light"
     },
     "output_type": "display_data"
    }
   ],
   "source": [
    "plt.scatter(new_monthly_senti_df['Time'],new_monthly_senti_df['Rating'])"
   ]
  },
  {
   "cell_type": "code",
   "execution_count": 84,
   "id": "1e683e21",
   "metadata": {},
   "outputs": [
    {
     "data": {
      "text/plain": [
       "<BarContainer object of 168 artists>"
      ]
     },
     "execution_count": 84,
     "metadata": {},
     "output_type": "execute_result"
    },
    {
     "data": {
      "image/png": "[encoded data removed]",
      "text/plain": [
       "<Figure size 432x288 with 1 Axes>"
      ]
     },
     "metadata": {
      "needs_background": "light"
     },
     "output_type": "display_data"
    }
   ],
   "source": [
    "plt.bar(new_monthly_senti_df['Time'],new_monthly_senti_df['Rating'])"
   ]
  },
  {
   "cell_type": "code",
   "execution_count": 85,
   "id": "24a083e7",
   "metadata": {},
   "outputs": [],
   "source": [
    "yearly_senti_df = senti_df.copy()"
   ]
  },
  {
   "cell_type": "code",
   "execution_count": 86,
   "id": "f9a7a132",
   "metadata": {},
   "outputs": [],
   "source": [
    "yearly_senti_df['Time'] = yearly_senti_df['Time'].apply(lambda x: x.strftime(\"%Y\"))"
   ]
  },
  {
   "cell_type": "code",
   "execution_count": 87,
   "id": "725ce8ba",
   "metadata": {},
   "outputs": [],
   "source": [
    "x = []\n",
    "y = []\n",
    "for group,frame in yearly_senti_df.groupby('Time'):\n",
    "    x.append(group)\n",
    "    y.append(frame['Rating'].mean())"
   ]
  },
  {
   "cell_type": "code",
   "execution_count": 88,
   "id": "14bdc56b",
   "metadata": {},
   "outputs": [],
   "source": [
    "new_yearly_senti_df = pd.DataFrame({'Time':x,'Rating':y})"
   ]
  },
  {
   "cell_type": "code",
   "execution_count": 90,
   "id": "2dd308a9",
   "metadata": {},
   "outputs": [
    {
     "data": {
      "text/html": [
       "<div>\n",
       "<style scoped>\n",
       "    .dataframe tbody tr th:only-of-type {\n",
       "        vertical-align: middle;\n",
       "    }\n",
       "\n",
       "    .dataframe tbody tr th {\n",
       "        vertical-align: top;\n",
       "    }\n",
       "\n",
       "    .dataframe thead th {\n",
       "        text-align: right;\n",
       "    }\n",
       "</style>\n",
       "<table border=\"1\" class=\"dataframe\">\n",
       "  <thead>\n",
       "    <tr style=\"text-align: right;\">\n",
       "      <th></th>\n",
       "      <th>Time</th>\n",
       "      <th>Rating</th>\n",
       "    </tr>\n",
       "  </thead>\n",
       "  <tbody>\n",
       "    <tr>\n",
       "      <th>0</th>\n",
       "      <td>2000</td>\n",
       "      <td>4.333333</td>\n",
       "    </tr>\n",
       "    <tr>\n",
       "      <th>1</th>\n",
       "      <td>2001</td>\n",
       "      <td>3.600000</td>\n",
       "    </tr>\n",
       "    <tr>\n",
       "      <th>2</th>\n",
       "      <td>2002</td>\n",
       "      <td>4.379010</td>\n",
       "    </tr>\n",
       "    <tr>\n",
       "      <th>3</th>\n",
       "      <td>2003</td>\n",
       "      <td>4.098452</td>\n",
       "    </tr>\n",
       "    <tr>\n",
       "      <th>4</th>\n",
       "      <td>2004</td>\n",
       "      <td>4.076205</td>\n",
       "    </tr>\n",
       "    <tr>\n",
       "      <th>5</th>\n",
       "      <td>2005</td>\n",
       "      <td>3.951447</td>\n",
       "    </tr>\n",
       "    <tr>\n",
       "      <th>6</th>\n",
       "      <td>2006</td>\n",
       "      <td>3.857241</td>\n",
       "    </tr>\n",
       "    <tr>\n",
       "      <th>7</th>\n",
       "      <td>2007</td>\n",
       "      <td>4.015359</td>\n",
       "    </tr>\n",
       "    <tr>\n",
       "      <th>8</th>\n",
       "      <td>2008</td>\n",
       "      <td>4.021745</td>\n",
       "    </tr>\n",
       "    <tr>\n",
       "      <th>9</th>\n",
       "      <td>2009</td>\n",
       "      <td>4.040166</td>\n",
       "    </tr>\n",
       "    <tr>\n",
       "      <th>10</th>\n",
       "      <td>2010</td>\n",
       "      <td>4.000749</td>\n",
       "    </tr>\n",
       "    <tr>\n",
       "      <th>11</th>\n",
       "      <td>2011</td>\n",
       "      <td>4.018815</td>\n",
       "    </tr>\n",
       "    <tr>\n",
       "      <th>12</th>\n",
       "      <td>2012</td>\n",
       "      <td>4.067089</td>\n",
       "    </tr>\n",
       "    <tr>\n",
       "      <th>13</th>\n",
       "      <td>2013</td>\n",
       "      <td>4.123074</td>\n",
       "    </tr>\n",
       "    <tr>\n",
       "      <th>14</th>\n",
       "      <td>2014</td>\n",
       "      <td>4.093896</td>\n",
       "    </tr>\n",
       "    <tr>\n",
       "      <th>15</th>\n",
       "      <td>2015</td>\n",
       "      <td>4.109941</td>\n",
       "    </tr>\n",
       "  </tbody>\n",
       "</table>\n",
       "</div>"
      ],
      "text/plain": [
       "    Time    Rating\n",
       "0   2000  4.333333\n",
       "1   2001  3.600000\n",
       "2   2002  4.379010\n",
       "3   2003  4.098452\n",
       "4   2004  4.076205\n",
       "5   2005  3.951447\n",
       "6   2006  3.857241\n",
       "7   2007  4.015359\n",
       "8   2008  4.021745\n",
       "9   2009  4.040166\n",
       "10  2010  4.000749\n",
       "11  2011  4.018815\n",
       "12  2012  4.067089\n",
       "13  2013  4.123074\n",
       "14  2014  4.093896\n",
       "15  2015  4.109941"
      ]
     },
     "execution_count": 90,
     "metadata": {},
     "output_type": "execute_result"
    }
   ],
   "source": [
    "new_yearly_senti_df"
   ]
  },
  {
   "cell_type": "code",
   "execution_count": 91,
   "id": "f6b73324",
   "metadata": {},
   "outputs": [
    {
     "data": {
      "text/plain": [
       "[<matplotlib.lines.Line2D at 0x1a9bb0f3eb0>]"
      ]
     },
     "execution_count": 91,
     "metadata": {},
     "output_type": "execute_result"
    },
    {
     "data": {
      "image/png": "[encoded data removed]",
      "text/plain": [
       "<Figure size 432x288 with 1 Axes>"
      ]
     },
     "metadata": {
      "needs_background": "light"
     },
     "output_type": "display_data"
    }
   ],
   "source": [
    "plt.plot(new_yearly_senti_df['Time'],new_yearly_senti_df['Rating'])"
   ]
  },
  {
   "cell_type": "code",
   "execution_count": 92,
   "id": "da367705",
   "metadata": {},
   "outputs": [
    {
     "data": {
      "text/plain": [
       "<matplotlib.collections.PathCollection at 0x1a9bb198b50>"
      ]
     },
     "execution_count": 92,
     "metadata": {},
     "output_type": "execute_result"
    },
    {
     "data": {
      "image/png": "[encoded data removed]",
      "text/plain": [
       "<Figure size 432x288 with 1 Axes>"
      ]
     },
     "metadata": {
      "needs_background": "light"
     },
     "output_type": "display_data"
    }
   ],
   "source": [
    "plt.scatter(new_yearly_senti_df['Time'],new_yearly_senti_df['Rating'])"
   ]
  },
  {
   "cell_type": "code",
   "execution_count": 93,
   "id": "d4f7ece6",
   "metadata": {},
   "outputs": [
    {
     "data": {
      "text/plain": [
       "<BarContainer object of 16 artists>"
      ]
     },
     "execution_count": 93,
     "metadata": {},
     "output_type": "execute_result"
    },
    {
     "data": {
      "image/png": "[encoded data removed]",
      "text/plain": [
       "<Figure size 432x288 with 1 Axes>"
      ]
     },
     "metadata": {
      "needs_background": "light"
     },
     "output_type": "display_data"
    }
   ],
   "source": [
    "plt.bar(new_yearly_senti_df['Time'],new_yearly_senti_df['Rating'])"
   ]
  },
  {
   "cell_type": "code",
   "execution_count": 100,
   "id": "d21ce72c",
   "metadata": {},
   "outputs": [],
   "source": [
    "senti_df.to_csv(\"apparells-ratings.csv\",index=False)"
   ]
  },
  {
   "cell_type": "code",
   "execution_count": 101,
   "id": "8417e7c1",
   "metadata": {},
   "outputs": [],
   "source": [
    "apparells = pd.read_csv(r\"C:\\users\\akavade\\Desktop\\apparells-ratings.csv\")"
   ]
  },
  {
   "cell_type": "code",
   "execution_count": 102,
   "id": "e8b85231",
   "metadata": {},
   "outputs": [
    {
     "data": {
      "text/html": [
       "<div>\n",
       "<style scoped>\n",
       "    .dataframe tbody tr th:only-of-type {\n",
       "        vertical-align: middle;\n",
       "    }\n",
       "\n",
       "    .dataframe tbody tr th {\n",
       "        vertical-align: top;\n",
       "    }\n",
       "\n",
       "    .dataframe thead th {\n",
       "        text-align: right;\n",
       "    }\n",
       "</style>\n",
       "<table border=\"1\" class=\"dataframe\">\n",
       "  <thead>\n",
       "    <tr style=\"text-align: right;\">\n",
       "      <th></th>\n",
       "      <th>Time</th>\n",
       "      <th>Rating</th>\n",
       "    </tr>\n",
       "  </thead>\n",
       "  <tbody>\n",
       "    <tr>\n",
       "      <th>0</th>\n",
       "      <td>2000-09-06</td>\n",
       "      <td>5.000000</td>\n",
       "    </tr>\n",
       "    <tr>\n",
       "      <th>1</th>\n",
       "      <td>2000-10-06</td>\n",
       "      <td>5.000000</td>\n",
       "    </tr>\n",
       "    <tr>\n",
       "      <th>2</th>\n",
       "      <td>2000-10-08</td>\n",
       "      <td>5.000000</td>\n",
       "    </tr>\n",
       "    <tr>\n",
       "      <th>3</th>\n",
       "      <td>2000-10-10</td>\n",
       "      <td>2.000000</td>\n",
       "    </tr>\n",
       "    <tr>\n",
       "      <th>4</th>\n",
       "      <td>2000-10-19</td>\n",
       "      <td>5.000000</td>\n",
       "    </tr>\n",
       "    <tr>\n",
       "      <th>...</th>\n",
       "      <td>...</td>\n",
       "      <td>...</td>\n",
       "    </tr>\n",
       "    <tr>\n",
       "      <th>4742</th>\n",
       "      <td>2015-08-27</td>\n",
       "      <td>4.104648</td>\n",
       "    </tr>\n",
       "    <tr>\n",
       "      <th>4743</th>\n",
       "      <td>2015-08-28</td>\n",
       "      <td>4.109572</td>\n",
       "    </tr>\n",
       "    <tr>\n",
       "      <th>4744</th>\n",
       "      <td>2015-08-29</td>\n",
       "      <td>4.170786</td>\n",
       "    </tr>\n",
       "    <tr>\n",
       "      <th>4745</th>\n",
       "      <td>2015-08-30</td>\n",
       "      <td>4.129041</td>\n",
       "    </tr>\n",
       "    <tr>\n",
       "      <th>4746</th>\n",
       "      <td>2015-08-31</td>\n",
       "      <td>4.140511</td>\n",
       "    </tr>\n",
       "  </tbody>\n",
       "</table>\n",
       "<p>4747 rows × 2 columns</p>\n",
       "</div>"
      ],
      "text/plain": [
       "            Time    Rating\n",
       "0     2000-09-06  5.000000\n",
       "1     2000-10-06  5.000000\n",
       "2     2000-10-08  5.000000\n",
       "3     2000-10-10  2.000000\n",
       "4     2000-10-19  5.000000\n",
       "...          ...       ...\n",
       "4742  2015-08-27  4.104648\n",
       "4743  2015-08-28  4.109572\n",
       "4744  2015-08-29  4.170786\n",
       "4745  2015-08-30  4.129041\n",
       "4746  2015-08-31  4.140511\n",
       "\n",
       "[4747 rows x 2 columns]"
      ]
     },
     "execution_count": 102,
     "metadata": {},
     "output_type": "execute_result"
    }
   ],
   "source": [
    "apparells"
   ]
  },
  {
   "cell_type": "code",
   "execution_count": 104,
   "id": "3416af6f",
   "metadata": {},
   "outputs": [],
   "source": [
    "import torch"
   ]
  },
  {
   "cell_type": "code",
   "execution_count": 105,
   "id": "8821f79b",
   "metadata": {},
   "outputs": [
    {
     "data": {
      "text/plain": [
       "True"
      ]
     },
     "execution_count": 105,
     "metadata": {},
     "output_type": "execute_result"
    }
   ],
   "source": [
    "torch.cuda.is_available()"
   ]
  },
  {
   "cell_type": "code",
   "execution_count": null,
   "id": "2208365e",
   "metadata": {},
   "outputs": [],
   "source": []
  },
  {
   "cell_type": "code",
   "execution_count": null,
   "id": "62f09fab",
   "metadata": {},
   "outputs": [],
   "source": []
  }
 ],
 "metadata": {
  "kernelspec": {
   "display_name": "Python 3",
   "language": "python",
   "name": "python3"
  },
  "language_info": {
   "codemirror_mode": {
    "name": "ipython",
    "version": 3
   },
   "file_extension": ".py",
   "mimetype": "text/x-python",
   "name": "python",
   "nbconvert_exporter": "python",
   "pygments_lexer": "ipython3",
   "version": "3.8.8"
  }
 },
 "nbformat": 4,
 "nbformat_minor": 5
}
